{
 "cells": [
  {
   "cell_type": "markdown",
   "id": "bc277dd6",
   "metadata": {},
   "source": [
    "# Проект: классификация"
   ]
  },
  {
   "cell_type": "code",
   "execution_count": 1,
   "id": "e525ec93",
   "metadata": {},
   "outputs": [],
   "source": [
    "import pandas as pd\n",
    "import numpy as np\n",
    "import matplotlib.pyplot as plt\n",
    "import seaborn as sns\n",
    "from  sklearn.ensemble import IsolationForest\n",
    "import warnings\n",
    "warnings.filterwarnings('ignore')\n",
    "from sklearn.preprocessing  import LabelEncoder\n",
    "from sklearn import linear_model \n",
    "from sklearn import tree \n",
    "from sklearn import ensemble \n",
    "from sklearn import metrics \n",
    "from sklearn import preprocessing \n",
    "from sklearn.model_selection import train_test_split \n",
    "from sklearn.feature_selection import SelectKBest, f_classif"
   ]
  },
  {
   "cell_type": "markdown",
   "id": "b4493012",
   "metadata": {},
   "source": [
    "## Часть 1. Знакомство с данными, обработка пропусков и выбросов"
   ]
  },
  {
   "cell_type": "markdown",
   "id": "8622bd24",
   "metadata": {},
   "source": [
    "### Задание 1"
   ]
  },
  {
   "cell_type": "code",
   "execution_count": 2,
   "id": "29ddd0e1",
   "metadata": {},
   "outputs": [],
   "source": [
    "df = pd.read_csv('bank_fin.csv', sep = ';')"
   ]
  },
  {
   "cell_type": "code",
   "execution_count": 3,
   "id": "d72c00a4",
   "metadata": {},
   "outputs": [
    {
     "name": "stdout",
     "output_type": "stream",
     "text": [
      "<class 'pandas.core.frame.DataFrame'>\n",
      "RangeIndex: 11162 entries, 0 to 11161\n",
      "Data columns (total 17 columns):\n",
      " #   Column     Non-Null Count  Dtype \n",
      "---  ------     --------------  ----- \n",
      " 0   age        11162 non-null  int64 \n",
      " 1   job        11162 non-null  object\n",
      " 2   marital    11162 non-null  object\n",
      " 3   education  11162 non-null  object\n",
      " 4   default    11162 non-null  object\n",
      " 5   balance    11137 non-null  object\n",
      " 6   housing    11162 non-null  object\n",
      " 7   loan       11162 non-null  object\n",
      " 8   contact    11162 non-null  object\n",
      " 9   day        11162 non-null  int64 \n",
      " 10  month      11162 non-null  object\n",
      " 11  duration   11162 non-null  int64 \n",
      " 12  campaign   11162 non-null  int64 \n",
      " 13  pdays      11162 non-null  int64 \n",
      " 14  previous   11162 non-null  int64 \n",
      " 15  poutcome   11162 non-null  object\n",
      " 16  deposit    11162 non-null  object\n",
      "dtypes: int64(6), object(11)\n",
      "memory usage: 1.4+ MB\n"
     ]
    },
    {
     "data": {
      "text/plain": [
       "False    11137\n",
       "True        25\n",
       "Name: balance, dtype: int64"
      ]
     },
     "execution_count": 3,
     "metadata": {},
     "output_type": "execute_result"
    }
   ],
   "source": [
    "# исследуйте данные на предмет пропусков. Где есть пропущенные значения? Сколько их?\n",
    "# ваш код\n",
    "df.info()\n",
    "df['balance'].isnull().value_counts()"
   ]
  },
  {
   "cell_type": "markdown",
   "id": "4dc44fe2",
   "metadata": {},
   "source": [
    "### Задание 2"
   ]
  },
  {
   "cell_type": "code",
   "execution_count": 4,
   "id": "eba9fc29",
   "metadata": {},
   "outputs": [
    {
     "data": {
      "text/plain": [
       "management       2566\n",
       "blue-collar      1944\n",
       "technician       1823\n",
       "admin.           1334\n",
       "services          923\n",
       "retired           778\n",
       "self-employed     405\n",
       "student           360\n",
       "unemployed        357\n",
       "entrepreneur      328\n",
       "housemaid         274\n",
       "unknown            70\n",
       "Name: job, dtype: int64"
      ]
     },
     "execution_count": 4,
     "metadata": {},
     "output_type": "execute_result"
    }
   ],
   "source": [
    "# есть ли в признаке job пропущенные значения? Возможно, они обозначены каким-то специальным словом?\n",
    "# ваш код\n",
    "df['job'].value_counts()"
   ]
  },
  {
   "cell_type": "markdown",
   "id": "6b270748",
   "metadata": {},
   "source": [
    "### Задание 3"
   ]
  },
  {
   "cell_type": "code",
   "execution_count": 5,
   "id": "cb8d6919",
   "metadata": {},
   "outputs": [
    {
     "data": {
      "text/plain": [
       "0         2 343,00 $ \n",
       "1            45,00 $ \n",
       "2         1 270,00 $ \n",
       "3         2 476,00 $ \n",
       "4           184,00 $ \n",
       "             ...     \n",
       "11157         1,00 $ \n",
       "11158       733,00 $ \n",
       "11159        29,00 $ \n",
       "11160           0  $ \n",
       "11161           0  $ \n",
       "Name: balance, Length: 11162, dtype: object"
      ]
     },
     "execution_count": 5,
     "metadata": {},
     "output_type": "execute_result"
    }
   ],
   "source": [
    "df['balance']"
   ]
  },
  {
   "cell_type": "code",
   "execution_count": 6,
   "id": "11915093",
   "metadata": {},
   "outputs": [],
   "source": [
    "def make_convert(row):\n",
    "    row = str(row)\n",
    "    if row != 'unknown':\n",
    "        row = row.replace(',00', '')\n",
    "        row = row.replace('$', '')\n",
    "        row = row.replace(' ', '')\n",
    "        return float(row)\n",
    "    else:\n",
    "        return np.nan"
   ]
  },
  {
   "cell_type": "code",
   "execution_count": 7,
   "id": "46c500b1",
   "metadata": {},
   "outputs": [],
   "source": [
    "# преобразуйте признак balance таким образом, чтобы он корректно считывался, как вещественное число (float)\n",
    "df['balance'] = df['balance'].apply(make_convert)"
   ]
  },
  {
   "cell_type": "code",
   "execution_count": 8,
   "id": "eb47f7d7",
   "metadata": {},
   "outputs": [
    {
     "data": {
      "text/plain": [
       "1529.1290293615875"
      ]
     },
     "execution_count": 8,
     "metadata": {},
     "output_type": "execute_result"
    }
   ],
   "source": [
    "df['balance'].mean()"
   ]
  },
  {
   "cell_type": "markdown",
   "id": "82ce9cd7",
   "metadata": {},
   "source": [
    "### Задание 4"
   ]
  },
  {
   "cell_type": "code",
   "execution_count": 9,
   "id": "86e014db",
   "metadata": {},
   "outputs": [],
   "source": [
    "# обработайте пропуски в признаки balance , заменив их на медианные значения по данному признаку\n",
    "# ваш код\n",
    "df['balance'] = df['balance'].fillna(df['balance'].median())"
   ]
  },
  {
   "cell_type": "code",
   "execution_count": 10,
   "id": "b2b731ba",
   "metadata": {
    "scrolled": true
   },
   "outputs": [
    {
     "data": {
      "text/plain": [
       "1526.936"
      ]
     },
     "execution_count": 10,
     "metadata": {},
     "output_type": "execute_result"
    }
   ],
   "source": [
    "round(df['balance'].mean(),3)"
   ]
  },
  {
   "cell_type": "markdown",
   "id": "f6f7db45",
   "metadata": {},
   "source": [
    "### Задание 5"
   ]
  },
  {
   "cell_type": "code",
   "execution_count": 11,
   "id": "abd4c2a7",
   "metadata": {},
   "outputs": [
    {
     "name": "stdout",
     "output_type": "stream",
     "text": [
      "management       2566\n",
      "blue-collar      1944\n",
      "technician       1823\n",
      "admin.           1334\n",
      "services          923\n",
      "retired           778\n",
      "self-employed     405\n",
      "student           360\n",
      "unemployed        357\n",
      "entrepreneur      328\n",
      "housemaid         274\n",
      "unknown            70\n",
      "Name: job, dtype: int64\n",
      "-----------------------------\n",
      "management       2636\n",
      "blue-collar      1944\n",
      "technician       1823\n",
      "admin.           1334\n",
      "services          923\n",
      "retired           778\n",
      "self-employed     405\n",
      "student           360\n",
      "unemployed        357\n",
      "entrepreneur      328\n",
      "housemaid         274\n",
      "Name: job, dtype: int64\n"
     ]
    }
   ],
   "source": [
    "# обработайте пропуски в категориальных признаках: job и education, заменив их на модальные значения\n",
    "# ваш код\n",
    "print(df.job.value_counts())\n",
    "print('-----------------------------')\n",
    "df['job'][df['job'] == 'unknown'] = ['management']\n",
    "print(df.job.value_counts())"
   ]
  },
  {
   "cell_type": "markdown",
   "id": "ad16732d",
   "metadata": {},
   "source": [
    "Решил наглядно посмотреть каr изменения"
   ]
  },
  {
   "cell_type": "code",
   "execution_count": 12,
   "id": "dfac02dd",
   "metadata": {},
   "outputs": [
    {
     "name": "stdout",
     "output_type": "stream",
     "text": [
      "secondary    5476\n",
      "tertiary     3689\n",
      "primary      1500\n",
      "unknown       497\n",
      "Name: education, dtype: int64\n",
      "-----------------------------\n",
      "secondary    5973\n",
      "tertiary     3689\n",
      "primary      1500\n",
      "Name: education, dtype: int64\n"
     ]
    }
   ],
   "source": [
    "print(df.education.value_counts())\n",
    "print('-----------------------------')\n",
    "df['education'][df['education'] == 'unknown'] = ['secondary']\n",
    "print(df.education.value_counts())"
   ]
  },
  {
   "cell_type": "markdown",
   "id": "2fb5b40f",
   "metadata": {},
   "source": [
    "Обработка уровня образования"
   ]
  },
  {
   "cell_type": "code",
   "execution_count": 13,
   "id": "76000630",
   "metadata": {},
   "outputs": [
    {
     "data": {
      "text/plain": [
       "1598.883"
      ]
     },
     "execution_count": 13,
     "metadata": {},
     "output_type": "execute_result"
    }
   ],
   "source": [
    "round(df.loc[(df['job'] == 'management') & (df['education'] == 'secondary')]['balance'].mean(), 3)"
   ]
  },
  {
   "cell_type": "markdown",
   "id": "22c278f9",
   "metadata": {},
   "source": [
    "##  Задание 2.6"
   ]
  },
  {
   "cell_type": "code",
   "execution_count": 14,
   "id": "e6f3e987",
   "metadata": {},
   "outputs": [
    {
     "data": {
      "text/plain": [
       "count    11162.000000\n",
       "mean      1526.936033\n",
       "std       3224.829691\n",
       "min      -6847.000000\n",
       "25%        123.000000\n",
       "50%        550.000000\n",
       "75%       1699.000000\n",
       "max      81204.000000\n",
       "Name: balance, dtype: float64"
      ]
     },
     "execution_count": 14,
     "metadata": {},
     "output_type": "execute_result"
    }
   ],
   "source": [
    "df['balance'].describe()"
   ]
  },
  {
   "cell_type": "code",
   "execution_count": 15,
   "id": "8fa135b6",
   "metadata": {
    "scrolled": true
   },
   "outputs": [
    {
     "data": {
      "image/png": "[encoded data removed]",
      "text/plain": [
       "<Figure size 1500x400 with 2 Axes>"
      ]
     },
     "metadata": {},
     "output_type": "display_data"
    }
   ],
   "source": [
    "fig, axes = plt.subplots(nrows=1, ncols=2, figsize=(15, 4))\n",
    "histplot = sns.histplot(data=df, x='balance', ax=axes[0]);\n",
    "histplot.set_title('balance');\n",
    "boxplot = sns.boxplot(data=df, x='balance', ax=axes[1]);\n",
    "boxplot.set_title('balance');"
   ]
  },
  {
   "cell_type": "markdown",
   "id": "726fd47d",
   "metadata": {},
   "source": [
    "МЕТОД МЕЖКВАРТИЛЬНОГО РАЗМАХА (МЕТОД ТЬЮКИ)"
   ]
  },
  {
   "cell_type": "markdown",
   "id": "2c4612a3",
   "metadata": {},
   "source": [
    "Воспользуемся нашей старой знакомой наглядной функцией для определения выбросов"
   ]
  },
  {
   "cell_type": "code",
   "execution_count": 16,
   "id": "db4a9575",
   "metadata": {},
   "outputs": [],
   "source": [
    "def outliers_iqr(data, feature):\n",
    "    x = data[feature]\n",
    "    quartile_1, quartile_3 = x.quantile(0.25), x.quantile(0.75),\n",
    "    iqr = quartile_3 - quartile_1\n",
    "    lower_bound = quartile_1 - (iqr * 1.5)\n",
    "    upper_bound = quartile_3 + (iqr * 1.5)\n",
    "    print(f'верхняя и нижняя граница: {upper_bound, lower_bound}')\n",
    "    outliers = data[(x<lower_bound) | (x >= upper_bound)]\n",
    "    cleaned = data[(x>lower_bound) & (x <= upper_bound)]\n",
    "    return outliers, cleaned"
   ]
  },
  {
   "cell_type": "code",
   "execution_count": 17,
   "id": "ce8c0ffa",
   "metadata": {},
   "outputs": [
    {
     "name": "stdout",
     "output_type": "stream",
     "text": [
      "верхняя и нижняя граница: (4063.0, -2241.0)\n",
      "Число выбросов по методу Тьюки: 1058\n",
      "Результирующее число записей: 10105\n"
     ]
    }
   ],
   "source": [
    "outliers, cleaned = outliers_iqr(df, 'balance')\n",
    "print(f'Число выбросов по методу Тьюки: {outliers.shape[0]}')\n",
    "print(f'Результирующее число записей: {cleaned.shape[0]}')"
   ]
  },
  {
   "cell_type": "code",
   "execution_count": 18,
   "id": "a9d92dee",
   "metadata": {},
   "outputs": [
    {
     "data": {
      "image/png": "[encoded data removed]",
      "text/plain": [
       "<Figure size 1500x400 with 2 Axes>"
      ]
     },
     "metadata": {},
     "output_type": "display_data"
    }
   ],
   "source": [
    "fig, axes = plt.subplots(nrows=1, ncols=2, figsize=(15, 4))\n",
    "histplot = sns.histplot(data=cleaned, x='balance', ax=axes[0]);\n",
    "histplot.set_title('balance');\n",
    "boxplot = sns.boxplot(data=cleaned, x='balance', ax=axes[1]);\n",
    "boxplot.set_title('balance');"
   ]
  },
  {
   "cell_type": "markdown",
   "id": "9120d552",
   "metadata": {},
   "source": [
    "Данык похожи на лог номальные и по хорошему наверно следовало логарифмировать,\n",
    "но задание от нас этого не требует"
   ]
  },
  {
   "cell_type": "markdown",
   "id": "eac09f56",
   "metadata": {},
   "source": [
    "Выбросов около 10%- это очень много"
   ]
  },
  {
   "cell_type": "code",
   "execution_count": 19,
   "id": "6d3d8a14",
   "metadata": {},
   "outputs": [],
   "source": [
    "# удалите все выбросы для признака balance\n",
    "# ваш код\n",
    "df = cleaned"
   ]
  },
  {
   "cell_type": "markdown",
   "id": "7a4a067a",
   "metadata": {},
   "source": [
    "## Часть 2:  Разведывательный анализ"
   ]
  },
  {
   "cell_type": "markdown",
   "id": "37a60800",
   "metadata": {},
   "source": [
    "### Задание 1"
   ]
  },
  {
   "cell_type": "code",
   "execution_count": 20,
   "id": "db274a94",
   "metadata": {},
   "outputs": [
    {
     "name": "stdout",
     "output_type": "stream",
     "text": [
      "no     5424\n",
      "yes    4681\n",
      "Name: deposit, dtype: int64\n"
     ]
    },
    {
     "data": {
      "image/png": "[encoded data removed]",
      "text/plain": [
       "<Figure size 640x480 with 1 Axes>"
      ]
     },
     "metadata": {},
     "output_type": "display_data"
    }
   ],
   "source": [
    "# изучите соотношение классов в ваших данных на предмет несбалансированности, проиллюстрируйте результат\n",
    "# ваш код\n",
    "print(df.deposit.value_counts())\n",
    "sns.countplot(x ='deposit', data = df)\n",
    "plt.show()"
   ]
  },
  {
   "cell_type": "markdown",
   "id": "47dce518",
   "metadata": {},
   "source": [
    "### Задания 2 и 3"
   ]
  },
  {
   "cell_type": "code",
   "execution_count": 21,
   "id": "81f6b4d7",
   "metadata": {},
   "outputs": [
    {
     "data": {
      "text/html": [
       "<div>\n",
       "<style scoped>\n",
       "    .dataframe tbody tr th:only-of-type {\n",
       "        vertical-align: middle;\n",
       "    }\n",
       "\n",
       "    .dataframe tbody tr th {\n",
       "        vertical-align: top;\n",
       "    }\n",
       "\n",
       "    .dataframe thead th {\n",
       "        text-align: right;\n",
       "    }\n",
       "</style>\n",
       "<table border=\"1\" class=\"dataframe\">\n",
       "  <thead>\n",
       "    <tr style=\"text-align: right;\">\n",
       "      <th></th>\n",
       "      <th>age</th>\n",
       "      <th>balance</th>\n",
       "      <th>day</th>\n",
       "      <th>duration</th>\n",
       "      <th>campaign</th>\n",
       "      <th>pdays</th>\n",
       "      <th>previous</th>\n",
       "    </tr>\n",
       "  </thead>\n",
       "  <tbody>\n",
       "    <tr>\n",
       "      <th>count</th>\n",
       "      <td>10105.000000</td>\n",
       "      <td>10105.000000</td>\n",
       "      <td>10105.000000</td>\n",
       "      <td>10105.000000</td>\n",
       "      <td>10105.000000</td>\n",
       "      <td>10105.000000</td>\n",
       "      <td>10105.000000</td>\n",
       "    </tr>\n",
       "    <tr>\n",
       "      <th>mean</th>\n",
       "      <td>40.895497</td>\n",
       "      <td>807.653538</td>\n",
       "      <td>15.590302</td>\n",
       "      <td>368.742603</td>\n",
       "      <td>2.517170</td>\n",
       "      <td>51.319644</td>\n",
       "      <td>0.816230</td>\n",
       "    </tr>\n",
       "    <tr>\n",
       "      <th>std</th>\n",
       "      <td>11.734931</td>\n",
       "      <td>994.151966</td>\n",
       "      <td>8.441510</td>\n",
       "      <td>346.651524</td>\n",
       "      <td>2.707159</td>\n",
       "      <td>109.644179</td>\n",
       "      <td>2.243795</td>\n",
       "    </tr>\n",
       "    <tr>\n",
       "      <th>min</th>\n",
       "      <td>18.000000</td>\n",
       "      <td>-2049.000000</td>\n",
       "      <td>1.000000</td>\n",
       "      <td>2.000000</td>\n",
       "      <td>1.000000</td>\n",
       "      <td>-1.000000</td>\n",
       "      <td>0.000000</td>\n",
       "    </tr>\n",
       "    <tr>\n",
       "      <th>25%</th>\n",
       "      <td>32.000000</td>\n",
       "      <td>95.000000</td>\n",
       "      <td>8.000000</td>\n",
       "      <td>137.000000</td>\n",
       "      <td>1.000000</td>\n",
       "      <td>-1.000000</td>\n",
       "      <td>0.000000</td>\n",
       "    </tr>\n",
       "    <tr>\n",
       "      <th>50%</th>\n",
       "      <td>38.000000</td>\n",
       "      <td>445.000000</td>\n",
       "      <td>15.000000</td>\n",
       "      <td>252.000000</td>\n",
       "      <td>2.000000</td>\n",
       "      <td>-1.000000</td>\n",
       "      <td>0.000000</td>\n",
       "    </tr>\n",
       "    <tr>\n",
       "      <th>75%</th>\n",
       "      <td>48.000000</td>\n",
       "      <td>1227.000000</td>\n",
       "      <td>22.000000</td>\n",
       "      <td>490.000000</td>\n",
       "      <td>3.000000</td>\n",
       "      <td>2.000000</td>\n",
       "      <td>1.000000</td>\n",
       "    </tr>\n",
       "    <tr>\n",
       "      <th>max</th>\n",
       "      <td>95.000000</td>\n",
       "      <td>4063.000000</td>\n",
       "      <td>31.000000</td>\n",
       "      <td>3881.000000</td>\n",
       "      <td>43.000000</td>\n",
       "      <td>854.000000</td>\n",
       "      <td>58.000000</td>\n",
       "    </tr>\n",
       "  </tbody>\n",
       "</table>\n",
       "</div>"
      ],
      "text/plain": [
       "                age       balance           day      duration      campaign  \\\n",
       "count  10105.000000  10105.000000  10105.000000  10105.000000  10105.000000   \n",
       "mean      40.895497    807.653538     15.590302    368.742603      2.517170   \n",
       "std       11.734931    994.151966      8.441510    346.651524      2.707159   \n",
       "min       18.000000  -2049.000000      1.000000      2.000000      1.000000   \n",
       "25%       32.000000     95.000000      8.000000    137.000000      1.000000   \n",
       "50%       38.000000    445.000000     15.000000    252.000000      2.000000   \n",
       "75%       48.000000   1227.000000     22.000000    490.000000      3.000000   \n",
       "max       95.000000   4063.000000     31.000000   3881.000000     43.000000   \n",
       "\n",
       "              pdays      previous  \n",
       "count  10105.000000  10105.000000  \n",
       "mean      51.319644      0.816230  \n",
       "std      109.644179      2.243795  \n",
       "min       -1.000000      0.000000  \n",
       "25%       -1.000000      0.000000  \n",
       "50%       -1.000000      0.000000  \n",
       "75%        2.000000      1.000000  \n",
       "max      854.000000     58.000000  "
      ]
     },
     "execution_count": 21,
     "metadata": {},
     "output_type": "execute_result"
    }
   ],
   "source": [
    "#рассчитайте описательные статистики для количественных переменных, проинтерпретируйте результат\n",
    "#ваш код\n",
    "df.describe()"
   ]
  },
  {
   "cell_type": "markdown",
   "id": "c4bdf74a",
   "metadata": {},
   "source": [
    "### Задания 4 и 5"
   ]
  },
  {
   "cell_type": "code",
   "execution_count": 22,
   "id": "f8c494d4",
   "metadata": {},
   "outputs": [
    {
     "data": {
      "text/html": [
       "<div>\n",
       "<style scoped>\n",
       "    .dataframe tbody tr th:only-of-type {\n",
       "        vertical-align: middle;\n",
       "    }\n",
       "\n",
       "    .dataframe tbody tr th {\n",
       "        vertical-align: top;\n",
       "    }\n",
       "\n",
       "    .dataframe thead th {\n",
       "        text-align: right;\n",
       "    }\n",
       "</style>\n",
       "<table border=\"1\" class=\"dataframe\">\n",
       "  <thead>\n",
       "    <tr style=\"text-align: right;\">\n",
       "      <th></th>\n",
       "      <th>job</th>\n",
       "      <th>marital</th>\n",
       "      <th>education</th>\n",
       "      <th>default</th>\n",
       "      <th>housing</th>\n",
       "      <th>loan</th>\n",
       "      <th>contact</th>\n",
       "      <th>month</th>\n",
       "      <th>poutcome</th>\n",
       "      <th>deposit</th>\n",
       "    </tr>\n",
       "  </thead>\n",
       "  <tbody>\n",
       "    <tr>\n",
       "      <th>count</th>\n",
       "      <td>10105</td>\n",
       "      <td>10105</td>\n",
       "      <td>10105</td>\n",
       "      <td>10105</td>\n",
       "      <td>10105</td>\n",
       "      <td>10105</td>\n",
       "      <td>10105</td>\n",
       "      <td>10105</td>\n",
       "      <td>10105</td>\n",
       "      <td>10105</td>\n",
       "    </tr>\n",
       "    <tr>\n",
       "      <th>unique</th>\n",
       "      <td>11</td>\n",
       "      <td>3</td>\n",
       "      <td>3</td>\n",
       "      <td>2</td>\n",
       "      <td>2</td>\n",
       "      <td>2</td>\n",
       "      <td>3</td>\n",
       "      <td>12</td>\n",
       "      <td>4</td>\n",
       "      <td>2</td>\n",
       "    </tr>\n",
       "    <tr>\n",
       "      <th>top</th>\n",
       "      <td>management</td>\n",
       "      <td>married</td>\n",
       "      <td>secondary</td>\n",
       "      <td>no</td>\n",
       "      <td>no</td>\n",
       "      <td>no</td>\n",
       "      <td>cellular</td>\n",
       "      <td>may</td>\n",
       "      <td>unknown</td>\n",
       "      <td>no</td>\n",
       "    </tr>\n",
       "    <tr>\n",
       "      <th>freq</th>\n",
       "      <td>2315</td>\n",
       "      <td>5715</td>\n",
       "      <td>5517</td>\n",
       "      <td>9939</td>\n",
       "      <td>5243</td>\n",
       "      <td>8712</td>\n",
       "      <td>7283</td>\n",
       "      <td>2617</td>\n",
       "      <td>7570</td>\n",
       "      <td>5424</td>\n",
       "    </tr>\n",
       "  </tbody>\n",
       "</table>\n",
       "</div>"
      ],
      "text/plain": [
       "               job  marital  education default housing   loan   contact  \\\n",
       "count        10105    10105      10105   10105   10105  10105     10105   \n",
       "unique          11        3          3       2       2      2         3   \n",
       "top     management  married  secondary      no      no     no  cellular   \n",
       "freq          2315     5715       5517    9939    5243   8712      7283   \n",
       "\n",
       "        month poutcome deposit  \n",
       "count   10105    10105   10105  \n",
       "unique     12        4       2  \n",
       "top       may  unknown      no  \n",
       "freq     2617     7570    5424  "
      ]
     },
     "metadata": {},
     "output_type": "display_data"
    },
    {
     "data": {
      "image/png": "[encoded data removed]",
      "text/plain": [
       "<Figure size 640x480 with 1 Axes>"
      ]
     },
     "metadata": {},
     "output_type": "display_data"
    },
    {
     "data": {
      "image/png": "[encoded data removed]",
      "text/plain": [
       "<Figure size 640x480 with 1 Axes>"
      ]
     },
     "metadata": {},
     "output_type": "display_data"
    }
   ],
   "source": [
    "#рассчитайте описательные статистики для категориальных переменных, проинтерпретируйте результат\n",
    "#ваш код\n",
    "display(df.describe(include = 'object'))\n",
    "#постройте визуализации, иллюстрирующие результаты\n",
    "# count plot on single categorical variable\n",
    "sns.countplot(x ='month', data = df)\n",
    "plt.show()\n",
    "sns.countplot(x ='job', data = df)\n",
    "# Show the plot\n",
    "plt.show()"
   ]
  },
  {
   "cell_type": "markdown",
   "id": "d963713a",
   "metadata": {},
   "source": [
    "### Задание 6"
   ]
  },
  {
   "cell_type": "code",
   "execution_count": 23,
   "id": "877bacf0",
   "metadata": {},
   "outputs": [
    {
     "data": {
      "text/plain": [
       "<AxesSubplot:xlabel='poutcome'>"
      ]
     },
     "execution_count": 23,
     "metadata": {},
     "output_type": "execute_result"
    },
    {
     "data": {
      "image/png": "[encoded data removed]",
      "text/plain": [
       "<Figure size 640x480 with 1 Axes>"
      ]
     },
     "metadata": {},
     "output_type": "display_data"
    }
   ],
   "source": [
    "# Узнайте, для какого статуса предыдущей маркетинговой кампании успех в текущей превалирует над количеством неудач.\n",
    "# ваш код\n",
    "types = df.groupby('poutcome')['deposit'].value_counts(normalize=False).unstack()\n",
    "types.plot(kind='bar', stacked='True')"
   ]
  },
  {
   "cell_type": "markdown",
   "id": "b7225a29",
   "metadata": {},
   "source": [
    "### Задание 7"
   ]
  },
  {
   "cell_type": "code",
   "execution_count": 24,
   "id": "ba904dc7",
   "metadata": {},
   "outputs": [
    {
     "name": "stdout",
     "output_type": "stream",
     "text": [
      "deposit        no       yes\n",
      "month                      \n",
      "may      0.678640  0.321360\n",
      "jan      0.608150  0.391850\n",
      "jul      0.589563  0.410437\n",
      "nov      0.584615  0.415385\n",
      "aug      0.559567  0.440433\n",
      "jun      0.548913  0.451087\n",
      "feb      0.455571  0.544429\n",
      "apr      0.381928  0.618072\n",
      "oct      0.185075  0.814925\n",
      "sep      0.165468  0.834532\n",
      "mar      0.101266  0.898734\n",
      "dec      0.096774  0.903226\n"
     ]
    },
    {
     "data": {
      "text/plain": [
       "<AxesSubplot:xlabel='month'>"
      ]
     },
     "execution_count": 24,
     "metadata": {},
     "output_type": "execute_result"
    },
    {
     "data": {
      "image/png": "[encoded data removed]",
      "text/plain": [
       "<Figure size 640x480 with 1 Axes>"
      ]
     },
     "metadata": {},
     "output_type": "display_data"
    }
   ],
   "source": [
    "# узнайте, в каком месяце чаще всего отказывались от предложения открыть депозит\n",
    "# ваш код\n",
    "month = df.groupby('month')['deposit'].value_counts(normalize=True).unstack()\n",
    "print(pd.DataFrame(month.sort_values('yes')))\n",
    "month.plot(kind='bar', stacked='True')"
   ]
  },
  {
   "cell_type": "markdown",
   "id": "81261039",
   "metadata": {},
   "source": [
    "### Задание 8"
   ]
  },
  {
   "cell_type": "code",
   "execution_count": 25,
   "id": "aa012dfa",
   "metadata": {},
   "outputs": [
    {
     "data": {
      "text/plain": [
       "<AxesSubplot:xlabel='age_group', ylabel='count'>"
      ]
     },
     "execution_count": 25,
     "metadata": {},
     "output_type": "execute_result"
    },
    {
     "data": {
      "image/png": "[encoded data removed]",
      "text/plain": [
       "<Figure size 640x480 with 1 Axes>"
      ]
     },
     "metadata": {},
     "output_type": "display_data"
    }
   ],
   "source": [
    "# создайте возрастные группы и определите, в каких группах более склонны открывать депозит, чем отказываться от предложения\n",
    "df['age_group'] = pd.cut(df.age, [0,30,40,50,60,9999], labels = ['<30','30-40','40-50','50-60','60+'])\n",
    "sns.countplot(x=\"age_group\", hue=\"deposit\", data=df)"
   ]
  },
  {
   "cell_type": "markdown",
   "id": "ac7a697f",
   "metadata": {},
   "source": [
    "### Задания 9 и 10"
   ]
  },
  {
   "cell_type": "code",
   "execution_count": 26,
   "id": "75c2d09e",
   "metadata": {},
   "outputs": [
    {
     "name": "stdout",
     "output_type": "stream",
     "text": [
      "AxesSubplot(0.125,0.11;0.775x0.77)\n",
      "management       2315\n",
      "blue-collar      1807\n",
      "technician       1638\n",
      "admin.           1246\n",
      "services          868\n",
      "retired           663\n",
      "self-employed     358\n",
      "unemployed        332\n",
      "student           326\n",
      "entrepreneur      300\n",
      "housemaid         252\n",
      "Name: job, dtype: int64\n",
      "['married' 'single' 'divorced']\n"
     ]
    },
    {
     "data": {
      "image/png": "[encoded data removed]",
      "text/plain": [
       "<Figure size 640x480 with 1 Axes>"
      ]
     },
     "metadata": {},
     "output_type": "display_data"
    }
   ],
   "source": [
    "# постройте визуализации для открывших и неоткрывших депозит в зависимости от семейного статуса\n",
    "print(sns.countplot(y='marital', hue='deposit', data=df))\n",
    "print(df.job.value_counts())\n",
    "print(df['marital'].unique())"
   ]
  },
  {
   "cell_type": "markdown",
   "id": "54422ab0",
   "metadata": {},
   "source": [
    "### Задание 11"
   ]
  },
  {
   "cell_type": "code",
   "execution_count": 27,
   "id": "168e9c3d",
   "metadata": {},
   "outputs": [
    {
     "name": "stdout",
     "output_type": "stream",
     "text": [
      "marital    divorced  married  single\n",
      "education                           \n",
      "primary          96      339      82\n",
      "secondary       283     1289     879\n",
      "tertiary        174      784     755\n"
     ]
    },
    {
     "data": {
      "image/png": "[encoded data removed]",
      "text/plain": [
       "<Figure size 640x480 with 2 Axes>"
      ]
     },
     "metadata": {},
     "output_type": "display_data"
    }
   ],
   "source": [
    "# постройте сводную таблицу, чтобы определить люди с каким образованием и семейным статусом наиболее многочисленны\n",
    "#(если рассматривать тех, кто открыл депозит)\n",
    "# print(df.columns)\n",
    "deposit_yes = df[df.deposit=='yes']\n",
    "\n",
    "crosstab_yes_df = pd.crosstab(deposit_yes.education, deposit_yes.marital)\n",
    "print(crosstab_yes_df)\n",
    "ax = sns.heatmap(\n",
    "    crosstab_yes_df,\n",
    "    cmap=sns.diverging_palette(20, 220, n=200),\n",
    "    square=True,\n",
    ")\n",
    "\n"
   ]
  },
  {
   "cell_type": "code",
   "execution_count": 28,
   "id": "c944df41",
   "metadata": {},
   "outputs": [
    {
     "name": "stdout",
     "output_type": "stream",
     "text": [
      "marital    divorced  married  single\n",
      "education                           \n",
      "primary          91      641     100\n",
      "secondary       370     1830     866\n",
      "tertiary        163      832     531\n"
     ]
    },
    {
     "data": {
      "image/png": "[encoded data removed]",
      "text/plain": [
       "<Figure size 640x480 with 2 Axes>"
      ]
     },
     "metadata": {},
     "output_type": "display_data"
    }
   ],
   "source": [
    "# Тепловая карта для тех кто не открыл депозит\n",
    "deposit_no = df[df.deposit=='no']\n",
    "crosstab_no_df = pd.crosstab(deposit_no.education, deposit_no.marital)\n",
    "print(crosstab_no_df)\n",
    "ax = sns.heatmap(\n",
    "    crosstab_no_df,\n",
    "    cmap=sns.diverging_palette(20, 220, n=200),\n",
    "    square=True,\n",
    ")"
   ]
  },
  {
   "cell_type": "markdown",
   "id": "3f2d7b62",
   "metadata": {},
   "source": [
    "## Часть 3: преобразование данных"
   ]
  },
  {
   "cell_type": "markdown",
   "id": "e7522bd2",
   "metadata": {},
   "source": [
    "### Задание 1"
   ]
  },
  {
   "cell_type": "code",
   "execution_count": 29,
   "id": "682e3f56",
   "metadata": {},
   "outputs": [
    {
     "data": {
      "text/plain": [
       "11995"
      ]
     },
     "execution_count": 29,
     "metadata": {},
     "output_type": "execute_result"
    }
   ],
   "source": [
    "# преобразуйте уровни образования\n",
    "# Создание экземпляра класса LabelEncoder()\n",
    "lab_enc = LabelEncoder()\n",
    "\n",
    "# Кодирование признака\n",
    "df['education'] = lab_enc.fit_transform(df['education'])\n",
    "df['education'].value_counts()\n",
    "df['education'].sum()\n",
    "# df.job.nunique()+df.marital.nunique()+df.contact.nunique()+df.month.nunique()"
   ]
  },
  {
   "cell_type": "markdown",
   "id": "b689a51a",
   "metadata": {},
   "source": [
    "### Задания 2 и 3"
   ]
  },
  {
   "cell_type": "code",
   "execution_count": 30,
   "id": "c8e664a7",
   "metadata": {},
   "outputs": [
    {
     "name": "stdout",
     "output_type": "stream",
     "text": [
      "0.499\n"
     ]
    },
    {
     "data": {
      "text/plain": [
       "['default', 'housing', 'loan', 'deposit']"
      ]
     },
     "execution_count": 30,
     "metadata": {},
     "output_type": "execute_result"
    }
   ],
   "source": [
    "# преобразуйте бинарные переменные в представление из нулей и единиц\n",
    "# Для начала найдем все бинарные признаки\n",
    "binar_col = []\n",
    "for i in df.columns:\n",
    "    if df[i].nunique() == 2:\n",
    "        binar_col.append(i)\n",
    "binar_col  \n",
    "# мы получили списов с бинарными признаками, теперь воспользуемся кодировщиком\n",
    "# OneHotEncoder\n",
    "for i in binar_col:\n",
    "    df[i] = lab_enc.fit_transform(df[i])\n",
    "\n",
    "import statistics\n",
    "print(round(statistics.stdev(df['deposit']), 3))\n",
    "round(df['default'].mean() + df['housing'].mean() + df['loan'].mean(), 3)\n",
    "binar_col"
   ]
  },
  {
   "cell_type": "markdown",
   "id": "78fa9b19",
   "metadata": {},
   "source": [
    "### Задание 4"
   ]
  },
  {
   "cell_type": "code",
   "execution_count": 31,
   "id": "1a46b71b",
   "metadata": {},
   "outputs": [
    {
     "name": "stdout",
     "output_type": "stream",
     "text": [
      "49\n"
     ]
    }
   ],
   "source": [
    "# создайте дамми-переменные\n",
    "df_dammy = pd.get_dummies(df)\n",
    "print(df_dammy.columns.nunique()-1)\n"
   ]
  },
  {
   "cell_type": "markdown",
   "id": "235a1fb0",
   "metadata": {},
   "source": [
    "### Задания 5 и 6"
   ]
  },
  {
   "cell_type": "code",
   "execution_count": 32,
   "id": "33b1dfd0",
   "metadata": {
    "scrolled": false
   },
   "outputs": [
    {
     "data": {
      "image/png": "[encoded data removed]",
      "text/plain": [
       "<Figure size 640x480 with 1 Axes>"
      ]
     },
     "metadata": {},
     "output_type": "display_data"
    }
   ],
   "source": [
    "# постройте корреляционную матрицу и оцените данные на предмет наличия мультиколлинеарности\n",
    "df_dammy.corr()['deposit'].apply(lambda x: abs(x)).sort_values(ascending=False)[1:5].plot.barh()\n",
    "plt.title(\"Correlation with deposit\", fontsize = 16)\n",
    "plt.show()\n",
    "df = df_dammy"
   ]
  },
  {
   "cell_type": "markdown",
   "id": "c6378ece",
   "metadata": {},
   "source": [
    "### Задания 7 и 8"
   ]
  },
  {
   "cell_type": "code",
   "execution_count": 33,
   "id": "df43d902",
   "metadata": {},
   "outputs": [],
   "source": [
    "X = df.drop(['deposit'], axis=1)\n",
    "y = df['deposit']\n",
    " \n",
    "X_train, X_test, y_train, y_test = train_test_split(X, y, stratify=y, random_state = 42, test_size = 0.33)"
   ]
  },
  {
   "cell_type": "code",
   "execution_count": 34,
   "id": "edab8669",
   "metadata": {},
   "outputs": [
    {
     "data": {
      "text/plain": [
       "0.46"
      ]
     },
     "execution_count": 34,
     "metadata": {},
     "output_type": "execute_result"
    }
   ],
   "source": [
    "# рассчитайте необходимые показатели\n",
    "y_test.count()\n",
    "round(y_test.mean(), 2)"
   ]
  },
  {
   "cell_type": "markdown",
   "id": "01b558d1",
   "metadata": {},
   "source": [
    "### Задание 9"
   ]
  },
  {
   "cell_type": "code",
   "execution_count": 35,
   "id": "24e2416b",
   "metadata": {},
   "outputs": [],
   "source": [
    "# 2 вариант через compress \n",
    "from itertools import compress\n",
    "\n",
    "skb = SelectKBest(f_classif, k=15).fit(X_train, y_train)\n",
    "mask = skb.get_support()\n",
    "name_col = X_train.columns.values\n",
    "\n",
    "columns_name = list(compress(name_col, mask))"
   ]
  },
  {
   "cell_type": "code",
   "execution_count": 36,
   "id": "c73ff536",
   "metadata": {},
   "outputs": [
    {
     "data": {
      "text/plain": [
       "['balance',\n",
       " 'housing',\n",
       " 'duration',\n",
       " 'campaign',\n",
       " 'pdays',\n",
       " 'previous',\n",
       " 'contact_cellular',\n",
       " 'contact_unknown',\n",
       " 'month_mar',\n",
       " 'month_may',\n",
       " 'month_oct',\n",
       " 'month_sep',\n",
       " 'poutcome_success',\n",
       " 'poutcome_unknown',\n",
       " 'age_group_60+']"
      ]
     },
     "execution_count": 36,
     "metadata": {},
     "output_type": "execute_result"
    }
   ],
   "source": [
    "columns_name"
   ]
  },
  {
   "cell_type": "markdown",
   "id": "e777f528",
   "metadata": {},
   "source": [
    "### Задание 10"
   ]
  },
  {
   "cell_type": "code",
   "execution_count": 37,
   "id": "b3e16506",
   "metadata": {},
   "outputs": [
    {
     "name": "stdout",
     "output_type": "stream",
     "text": [
      "0.46823674223097866\n"
     ]
    },
    {
     "data": {
      "text/plain": [
       "Index(['balance', 'housing', 'duration', 'campaign', 'pdays', 'previous',\n",
       "       'age_group_60+', 'contact_cellular', 'contact_unknown', 'month_mar',\n",
       "       'month_may', 'month_oct', 'month_sep', 'poutcome_success',\n",
       "       'poutcome_unknown', 'deposit'],\n",
       "      dtype='object')"
      ]
     },
     "execution_count": 37,
     "metadata": {},
     "output_type": "execute_result"
    }
   ],
   "source": [
    "df = df[['balance', 'housing', 'duration', 'campaign', 'pdays', \n",
    "         'previous', 'age_group_60+', 'contact_cellular', 'contact_unknown',\n",
    "         'month_mar', 'month_may', 'month_oct', 'month_sep', 'poutcome_success', 'poutcome_unknown', 'deposit']]\n",
    "\n",
    "X = df.drop(['deposit'], axis=1)\n",
    "y = df['deposit']\n",
    " \n",
    "X_train, X_test, y_train, y_test = train_test_split(X, y, stratify=y, random_state = 42, test_size = 0.33)\n",
    "\n",
    "scaler = preprocessing.MinMaxScaler()\n",
    "scaler.fit(X_train)\n",
    "X_train_scaled = scaler.transform(X_train)\n",
    "X_test_scaled = scaler.transform(X_test)\n",
    "\n",
    "print(X_test_scaled[:, 0].mean())  # для признака balance\n",
    "df.columns"
   ]
  },
  {
   "cell_type": "markdown",
   "id": "d8497786",
   "metadata": {},
   "source": [
    "# Часть 4: Решение задачи классификации: логистическая регрессия и решающие деревья"
   ]
  },
  {
   "cell_type": "markdown",
   "id": "292f8b50",
   "metadata": {},
   "source": [
    "### Задание 1"
   ]
  },
  {
   "cell_type": "code",
   "execution_count": 38,
   "id": "642da6ad",
   "metadata": {},
   "outputs": [
    {
     "name": "stdout",
     "output_type": "stream",
     "text": [
      "accuracy_score на тренироваочных данных 0.82\n",
      "accuracy_score на тестовых данных 0.81\n"
     ]
    }
   ],
   "source": [
    "import sklearn\n",
    "from sklearn.metrics import accuracy_score\n",
    "# обучите логистическую регрессию и рассчитайте метрики качества\n",
    "log_reg = linear_model.LogisticRegression(\n",
    "    solver='sag', \n",
    "    random_state=42, \n",
    "    max_iter=1000 )\n",
    "\n",
    "log_reg.fit(X_train_scaled, y_train)\n",
    "y_train_pred_log_reg = log_reg.predict(X_train_scaled)\n",
    "y_test_pred_log_reg = log_reg.predict(X_test_scaled)\n",
    "\n",
    "print(f\"accuracy_score на тренироваочных данных {round(sklearn.metrics.accuracy_score(y_train, y_train_pred_log_reg), 2)}\")\n",
    "print(f\"accuracy_score на тестовых данных {round(sklearn.metrics.accuracy_score(y_test, y_test_pred_log_reg), 2)}\")"
   ]
  },
  {
   "cell_type": "markdown",
   "id": "78feda92",
   "metadata": {},
   "source": [
    "### Задания 2,3,4"
   ]
  },
  {
   "cell_type": "code",
   "execution_count": 39,
   "id": "d2ad0030",
   "metadata": {},
   "outputs": [
    {
     "name": "stdout",
     "output_type": "stream",
     "text": [
      "accuracy_score на тренироваочных данных 0.81\n",
      "accuracy_score на тестовых данных 0.8\n"
     ]
    }
   ],
   "source": [
    "# обучите решающие деревья, настройте максимальную глубину\n",
    "dt = tree.DecisionTreeClassifier(\n",
    "    criterion='entropy',\n",
    "    random_state=42,\n",
    "    max_depth = 6\n",
    ")\n",
    "\n",
    "dt.fit(X_train_scaled, y_train)\n",
    "y_train_pred_dt = dt.predict(X_train_scaled)\n",
    "y_test_pred_dt = dt.predict(X_test_scaled)\n",
    "print(f\"accuracy_score на тренироваочных данных {round(sklearn.metrics.accuracy_score(y_train, y_train_pred_dt), 2)}\")\n",
    "print(f\"accuracy_score на тестовых данных {round(sklearn.metrics.accuracy_score(y_test, y_test_pred_dt), 2)}\")"
   ]
  },
  {
   "cell_type": "markdown",
   "id": "01dd5ede",
   "metadata": {},
   "source": [
    "### Задание 5"
   ]
  },
  {
   "cell_type": "code",
   "execution_count": 40,
   "id": "f59a784c",
   "metadata": {},
   "outputs": [
    {
     "name": "stdout",
     "output_type": "stream",
     "text": [
      "Wall time: 323 ms\n",
      "f1_score на тестовом наборе: 0.79\n",
      "accuracy на тестовом наборе: 0.78\n",
      "Наилучшие значения гиперпараметров: {'max_depth': 7, 'min_samples_split': 2}\n"
     ]
    }
   ],
   "source": [
    "# GridSearchCV на DecisionTreeClassifier\n",
    "from sklearn.model_selection import GridSearchCV\n",
    "\n",
    "parameters =  {'min_samples_split': [2, 5, 7, 10], 'max_depth':[3,5,7]}\n",
    "\n",
    "model_cv = GridSearchCV(tree.DecisionTreeClassifier(), \n",
    "                        parameters,\n",
    "                        cv=3, scoring=('f1'), \n",
    "                        return_train_score=True)\n",
    "\n",
    "%time model_cv.fit(X_train_scaled, y_train) \n",
    "print('f1_score на тестовом наборе: {:.2f}'.format(metrics.f1_score(y_test, y_test_pred_dt)))\n",
    "print(\"accuracy на тестовом наборе: {:.2f}\".format(model_cv.score(X_test_scaled, y_test)))\n",
    "print(\"Наилучшие значения гиперпараметров: {}\".format(model_cv.best_params_))"
   ]
  },
  {
   "cell_type": "markdown",
   "id": "6b780990",
   "metadata": {},
   "source": [
    "# Часть 5: Решение задачи классификации: ансамбли моделей и построение прогноза"
   ]
  },
  {
   "cell_type": "markdown",
   "id": "8cb9e86d",
   "metadata": {},
   "source": [
    "### Задание 1"
   ]
  },
  {
   "cell_type": "code",
   "execution_count": 41,
   "id": "6e46c4d3",
   "metadata": {
    "scrolled": true
   },
   "outputs": [
    {
     "name": "stdout",
     "output_type": "stream",
     "text": [
      "Wall time: 283 ms\n"
     ]
    }
   ],
   "source": [
    "# обучите на ваших данных случайный лес\n",
    "rf = ensemble.RandomForestClassifier(\n",
    "    n_estimators=100,\n",
    "    criterion='gini',\n",
    "    min_samples_leaf=5,\n",
    "    max_depth=10,\n",
    "    random_state=42\n",
    ")\n",
    "#Обучаем модель\n",
    "%time rf.fit(X_train_scaled, y_train)\n",
    "y_test_pred_rf = rf.predict(X_test_scaled)"
   ]
  },
  {
   "cell_type": "code",
   "execution_count": 42,
   "id": "e9830240",
   "metadata": {
    "scrolled": true
   },
   "outputs": [
    {
     "name": "stdout",
     "output_type": "stream",
     "text": [
      "test: 0.82\n"
     ]
    }
   ],
   "source": [
    "print('test: {:.2f}'.format(metrics.accuracy_score(y_test, y_test_pred_rf)))"
   ]
  },
  {
   "cell_type": "code",
   "execution_count": 43,
   "id": "d0a93845",
   "metadata": {
    "scrolled": true
   },
   "outputs": [
    {
     "data": {
      "text/plain": [
       "0.82"
      ]
     },
     "execution_count": 43,
     "metadata": {},
     "output_type": "execute_result"
    }
   ],
   "source": [
    "from sklearn.metrics import recall_score\n",
    "round(sklearn.metrics.recall_score(y_test, y_test_pred_rf), 2)"
   ]
  },
  {
   "cell_type": "markdown",
   "id": "1f0a08d9",
   "metadata": {},
   "source": [
    "### Задания 2 и 3"
   ]
  },
  {
   "cell_type": "code",
   "execution_count": 44,
   "id": "479d8454",
   "metadata": {},
   "outputs": [
    {
     "name": "stdout",
     "output_type": "stream",
     "text": [
      "Wall time: 2.24 s\n"
     ]
    }
   ],
   "source": [
    "# используйте для классификации градиентный бустинг и сравните качество со случайным лесом\n",
    "from sklearn.ensemble import GradientBoostingClassifier\n",
    "gbс = GradientBoostingClassifier(\n",
    "    learning_rate = 0.05,\n",
    "    n_estimators = 300,\n",
    "    min_samples_leaf = 5,\n",
    "    max_depth = 5,\n",
    "    random_state = 42\n",
    ")\n",
    "%time gbс.fit(X_train_scaled, y_train)\n",
    "y_test_pred_gbс = gbс.predict(X_test_scaled)\n"
   ]
  },
  {
   "cell_type": "code",
   "execution_count": 45,
   "id": "41ec6ce4",
   "metadata": {
    "scrolled": true
   },
   "outputs": [
    {
     "data": {
      "text/plain": [
       "0.81"
      ]
     },
     "execution_count": 45,
     "metadata": {},
     "output_type": "execute_result"
    }
   ],
   "source": [
    "from sklearn.metrics import f1_score\n",
    "round(f1_score(y_test, y_test_pred_gbс), 2)"
   ]
  },
  {
   "cell_type": "markdown",
   "id": "cce20a0b",
   "metadata": {},
   "source": [
    "### Задание 4"
   ]
  },
  {
   "cell_type": "code",
   "execution_count": 46,
   "id": "62105e9b",
   "metadata": {},
   "outputs": [],
   "source": [
    "# объедините уже известные вам алгоритмы с помощью стекинга\n",
    "from sklearn.ensemble import StackingRegressor\n",
    "from sklearn.linear_model import RidgeCV\n",
    "estimators = [\n",
    "    ('dt', tree.DecisionTreeClassifier(\n",
    "        criterion='entropy',\n",
    "        min_samples_leaf=5,\n",
    "        max_depth=6,\n",
    "        random_state=42\n",
    "        )\n",
    "    ),\n",
    "    ('log_reg', linear_model.LogisticRegression(\n",
    "        solver='sag',\n",
    "        random_state=42 \n",
    "        )\n",
    "    ),\n",
    "    ('gb', ensemble.GradientBoostingClassifier(\n",
    "        learning_rate=0.05,\n",
    "        n_estimators=300,\n",
    "        min_samples_leaf=5,\n",
    "        max_depth=5,\n",
    "        random_state=42\n",
    "        )\n",
    "    )\n",
    "]\n"
   ]
  },
  {
   "cell_type": "code",
   "execution_count": 47,
   "id": "adb2d9c5",
   "metadata": {
    "scrolled": true
   },
   "outputs": [
    {
     "name": "stdout",
     "output_type": "stream",
     "text": [
      "Wall time: 12.3 s\n",
      "Качество предсказания по MSE для стекинга 0.82\n"
     ]
    }
   ],
   "source": [
    "from sklearn.ensemble import RandomForestRegressor\n",
    "from sklearn.metrics import mean_squared_error\n",
    "#Создаем объект класса стекинг\n",
    "stack = ensemble.StackingClassifier(\n",
    "    estimators,\n",
    "    final_estimator=linear_model.LogisticRegression(random_state=42)\n",
    ")\n",
    " \n",
    "#Обучаем модель\n",
    "%time stack.fit(X_train, y_train)\n",
    "\n",
    "y_pred_stack = stack.predict(X_test)\n",
    "print(f'Качество предсказания по MSE для стекинга {round(sklearn.metrics.accuracy_score(y_test, y_pred_stack),2)}')"
   ]
  },
  {
   "cell_type": "markdown",
   "id": "a5f88070",
   "metadata": {},
   "source": [
    "### Задание 5"
   ]
  },
  {
   "cell_type": "code",
   "execution_count": 48,
   "id": "3264d245",
   "metadata": {
    "scrolled": true
   },
   "outputs": [
    {
     "name": "stdout",
     "output_type": "stream",
     "text": [
      "['duration' 'contact_unknown' 'poutcome_success']\n",
      "Index(['balance', 'housing', 'duration', 'campaign', 'pdays', 'previous',\n",
      "       'age_group_60+', 'contact_cellular', 'contact_unknown', 'month_mar',\n",
      "       'month_may', 'month_oct', 'month_sep', 'poutcome_success',\n",
      "       'poutcome_unknown'],\n",
      "      dtype='object')\n"
     ]
    },
    {
     "data": {
      "text/plain": [
       "array([ 5,  3,  1,  9,  2, 12,  6, 13,  1,  4, 11,  7,  8,  1, 10])"
      ]
     },
     "execution_count": 48,
     "metadata": {},
     "output_type": "execute_result"
    }
   ],
   "source": [
    "# оцените, какие признаки демонстрируют наибольшую  важность в модели градиентного бустинга\n",
    "from sklearn.feature_selection import RFE\n",
    "estimator = GradientBoostingClassifier()\n",
    "selector = RFE(estimator, n_features_to_select=3, step=1)\n",
    "selector = selector.fit(X_train, y_train)\n",
    "\n",
    "print(selector.get_feature_names_out())\n",
    "print(X_train.columns)\n",
    "selector.ranking_\n"
   ]
  },
  {
   "cell_type": "markdown",
   "id": "0f3586e6",
   "metadata": {},
   "source": [
    "### Задания 6,7,8"
   ]
  },
  {
   "cell_type": "code",
   "execution_count": 49,
   "id": "ad8296d0",
   "metadata": {
    "scrolled": true
   },
   "outputs": [
    {
     "name": "stdout",
     "output_type": "stream",
     "text": [
      "Defaulting to user installation because normal site-packages is not writeable\n",
      "Requirement already satisfied: optuna in c:\\users\\башир\\appdata\\roaming\\python\\python39\\site-packages (3.0.3)\n",
      "Requirement already satisfied: colorlog in c:\\users\\башир\\appdata\\roaming\\python\\python39\\site-packages (from optuna) (6.7.0)\n",
      "Requirement already satisfied: numpy in c:\\programdata\\anaconda3\\lib\\site-packages (from optuna) (1.21.5)\n",
      "Requirement already satisfied: scipy<1.9.0,>=1.7.0 in c:\\users\\башир\\appdata\\roaming\\python\\python39\\site-packages (from optuna) (1.8.1)\n",
      "Requirement already satisfied: tqdm in c:\\programdata\\anaconda3\\lib\\site-packages (from optuna) (4.64.1)\n",
      "Requirement already satisfied: importlib-metadata<5.0.0 in c:\\programdata\\anaconda3\\lib\\site-packages (from optuna) (4.11.3)\n",
      "Requirement already satisfied: cliff in c:\\users\\башир\\appdata\\roaming\\python\\python39\\site-packages (from optuna) (4.1.0)\n",
      "Requirement already satisfied: sqlalchemy>=1.3.0 in c:\\programdata\\anaconda3\\lib\\site-packages (from optuna) (1.4.39)\n",
      "Requirement already satisfied: PyYAML in c:\\programdata\\anaconda3\\lib\\site-packages (from optuna) (6.0)\n",
      "Requirement already satisfied: cmaes>=0.8.2 in c:\\users\\башир\\appdata\\roaming\\python\\python39\\site-packages (from optuna) (0.9.0)\n",
      "Requirement already satisfied: packaging>=20.0 in c:\\programdata\\anaconda3\\lib\\site-packages (from optuna) (21.3)\n",
      "Requirement already satisfied: alembic>=1.5.0 in c:\\users\\башир\\appdata\\roaming\\python\\python39\\site-packages (from optuna) (1.8.1)\n",
      "Requirement already satisfied: Mako in c:\\users\\башир\\appdata\\roaming\\python\\python39\\site-packages (from alembic>=1.5.0->optuna) (1.2.4)\n",
      "Requirement already satisfied: zipp>=0.5 in c:\\programdata\\anaconda3\\lib\\site-packages (from importlib-metadata<5.0.0->optuna) (3.8.0)\n",
      "Requirement already satisfied: pyparsing!=3.0.5,>=2.0.2 in c:\\programdata\\anaconda3\\lib\\site-packages (from packaging>=20.0->optuna) (3.0.9)\n",
      "Requirement already satisfied: greenlet!=0.4.17 in c:\\programdata\\anaconda3\\lib\\site-packages (from sqlalchemy>=1.3.0->optuna) (1.1.1)\n",
      "Requirement already satisfied: autopage>=0.4.0 in c:\\users\\башир\\appdata\\roaming\\python\\python39\\site-packages (from cliff->optuna) (0.5.1)\n",
      "Requirement already satisfied: PrettyTable>=0.7.2 in c:\\users\\башир\\appdata\\roaming\\python\\python39\\site-packages (from cliff->optuna) (3.5.0)\n",
      "Requirement already satisfied: stevedore>=2.0.1 in c:\\users\\башир\\appdata\\roaming\\python\\python39\\site-packages (from cliff->optuna) (4.1.1)\n",
      "Requirement already satisfied: cmd2>=1.0.0 in c:\\users\\башир\\appdata\\roaming\\python\\python39\\site-packages (from cliff->optuna) (2.4.2)\n",
      "Requirement already satisfied: colorama in c:\\programdata\\anaconda3\\lib\\site-packages (from colorlog->optuna) (0.4.5)\n",
      "Requirement already satisfied: pyperclip>=1.6 in c:\\users\\башир\\appdata\\roaming\\python\\python39\\site-packages (from cmd2>=1.0.0->cliff->optuna) (1.8.2)\n",
      "Requirement already satisfied: pyreadline3 in c:\\users\\башир\\appdata\\roaming\\python\\python39\\site-packages (from cmd2>=1.0.0->cliff->optuna) (3.4.1)\n",
      "Requirement already satisfied: wcwidth>=0.1.7 in c:\\programdata\\anaconda3\\lib\\site-packages (from cmd2>=1.0.0->cliff->optuna) (0.2.5)\n",
      "Requirement already satisfied: attrs>=16.3.0 in c:\\programdata\\anaconda3\\lib\\site-packages (from cmd2>=1.0.0->cliff->optuna) (21.4.0)\n",
      "Requirement already satisfied: pbr!=2.1.0,>=2.0.0 in c:\\users\\башир\\appdata\\roaming\\python\\python39\\site-packages (from stevedore>=2.0.1->cliff->optuna) (5.11.0)\n",
      "Requirement already satisfied: MarkupSafe>=0.9.2 in c:\\programdata\\anaconda3\\lib\\site-packages (from Mako->alembic>=1.5.0->optuna) (2.0.1)\n"
     ]
    }
   ],
   "source": [
    "!pip install optuna"
   ]
  },
  {
   "cell_type": "code",
   "execution_count": 50,
   "id": "01176433",
   "metadata": {},
   "outputs": [
    {
     "name": "stdout",
     "output_type": "stream",
     "text": [
      "<module 'optuna.version' from 'C:\\\\Users\\\\Башир\\\\AppData\\\\Roaming\\\\Python\\\\Python39\\\\site-packages\\\\optuna\\\\version.py'>\n"
     ]
    }
   ],
   "source": [
    "import optuna\n",
    "print(optuna.version)"
   ]
  },
  {
   "cell_type": "code",
   "execution_count": 67,
   "id": "f394f59a",
   "metadata": {
    "scrolled": true
   },
   "outputs": [
    {
     "name": "stderr",
     "output_type": "stream",
     "text": [
      "\u001b[32m[I 2022-11-24 09:11:34,000]\u001b[0m A new study created in memory with name: RandomForestClassifier\u001b[0m\n",
      "\u001b[32m[I 2022-11-24 09:11:34,628]\u001b[0m Trial 0 finished with value: 0.8487697853001098 and parameters: {'n_estimators': 187, 'max_depth': 19, 'min_samples_leaf': 8}. Best is trial 0 with value: 0.8487697853001098.\u001b[0m\n",
      "\u001b[32m[I 2022-11-24 09:11:35,054]\u001b[0m Trial 1 finished with value: 0.8704402515723271 and parameters: {'n_estimators': 113, 'max_depth': 20, 'min_samples_leaf': 4}. Best is trial 1 with value: 0.8704402515723271.\u001b[0m\n",
      "\u001b[32m[I 2022-11-24 09:11:35,794]\u001b[0m Trial 2 finished with value: 0.8683755307438277 and parameters: {'n_estimators': 199, 'max_depth': 19, 'min_samples_leaf': 4}. Best is trial 1 with value: 0.8704402515723271.\u001b[0m\n",
      "\u001b[32m[I 2022-11-24 09:11:36,525]\u001b[0m Trial 3 finished with value: 0.8890629896584142 and parameters: {'n_estimators': 188, 'max_depth': 29, 'min_samples_leaf': 3}. Best is trial 3 with value: 0.8890629896584142.\u001b[0m\n",
      "\u001b[32m[I 2022-11-24 09:11:36,848]\u001b[0m Trial 4 finished with value: 0.8348129359543438 and parameters: {'n_estimators': 105, 'max_depth': 10, 'min_samples_leaf': 8}. Best is trial 3 with value: 0.8890629896584142.\u001b[0m\n",
      "\u001b[32m[I 2022-11-24 09:11:37,291]\u001b[0m Trial 5 finished with value: 0.8408483896307934 and parameters: {'n_estimators': 137, 'max_depth': 15, 'min_samples_leaf': 9}. Best is trial 3 with value: 0.8890629896584142.\u001b[0m\n",
      "\u001b[32m[I 2022-11-24 09:11:37,649]\u001b[0m Trial 6 finished with value: 0.8557495674060089 and parameters: {'n_estimators': 104, 'max_depth': 22, 'min_samples_leaf': 6}. Best is trial 3 with value: 0.8890629896584142.\u001b[0m\n",
      "\u001b[32m[I 2022-11-24 09:11:37,989]\u001b[0m Trial 7 finished with value: 0.8418568056648308 and parameters: {'n_estimators': 104, 'max_depth': 18, 'min_samples_leaf': 9}. Best is trial 3 with value: 0.8890629896584142.\u001b[0m\n",
      "\u001b[32m[I 2022-11-24 09:11:38,479]\u001b[0m Trial 8 finished with value: 0.8461174988187115 and parameters: {'n_estimators': 149, 'max_depth': 12, 'min_samples_leaf': 6}. Best is trial 3 with value: 0.8890629896584142.\u001b[0m\n",
      "\u001b[32m[I 2022-11-24 09:11:38,913]\u001b[0m Trial 9 finished with value: 0.845061533606816 and parameters: {'n_estimators': 132, 'max_depth': 12, 'min_samples_leaf': 6}. Best is trial 3 with value: 0.8890629896584142.\u001b[0m\n"
     ]
    }
   ],
   "source": [
    "# реализуйте оптимизацию гиперпараметров с помощью Optuna\n",
    "import optuna\n",
    "\n",
    "def optuna_rf(trial):\n",
    "  n_estimators = trial.suggest_int('n_estimators', 100, 200, 1)\n",
    "  max_depth = trial.suggest_int('max_depth', 10, 30, 1)\n",
    "  min_samples_leaf = trial.suggest_int('min_samples_leaf', 2, 10, 1)\n",
    "\n",
    "# Создаем модель\n",
    "  model = ensemble.RandomForestClassifier(n_estimators=n_estimators,\n",
    "                                          max_depth=max_depth,\n",
    "                                          min_samples_leaf=min_samples_leaf,\n",
    "                                          random_state=42)\n",
    "#     Обучаем модель\n",
    "  model.fit(X_train_scaled, y_train)\n",
    "  score = metrics.f1_score(y_train, model.predict(X_train_scaled))\n",
    "         \n",
    "\n",
    "\n",
    "  return score\n",
    "\n",
    "study = optuna.create_study(study_name='RandomForestClassifier', direction=\"maximize\")\n",
    "\n",
    "study.optimize(optuna_rf, n_trials=10)\n",
    "model = ensemble.RandomForestClassifier(**study.best_params,random_state=42, )"
   ]
  },
  {
   "cell_type": "code",
   "execution_count": 69,
   "id": "08c5901e",
   "metadata": {
    "scrolled": true
   },
   "outputs": [
    {
     "name": "stdout",
     "output_type": "stream",
     "text": [
      "0.81\n",
      "0.82\n"
     ]
    }
   ],
   "source": [
    "model = ensemble.RandomForestClassifier(**study.best_params,random_state=42, )\n",
    "#     Обучаем модель\n",
    "model.fit(X_train_scaled, y_train)\n",
    "\n",
    "\n",
    "from sklearn.metrics import accuracy_score\n",
    "y_pred = model.predict(X_test_scaled)\n",
    "\n",
    "print(round(f1_score(y_pred, y_test),2))\n",
    "print(round(accuracy_score(y_pred, y_test),2))"
   ]
  },
  {
   "cell_type": "code",
   "execution_count": null,
   "id": "6b3de56a",
   "metadata": {},
   "outputs": [],
   "source": []
  },
  {
   "cell_type": "code",
   "execution_count": null,
   "id": "089c6cf1",
   "metadata": {},
   "outputs": [],
   "source": []
  }
 ],
 "metadata": {
  "kernelspec": {
   "display_name": "Python 3 (ipykernel)",
   "language": "python",
   "name": "python3"
  },
  "language_info": {
   "codemirror_mode": {
    "name": "ipython",
    "version": 3
   },
   "file_extension": ".py",
   "mimetype": "text/x-python",
   "name": "python",
   "nbconvert_exporter": "python",
   "pygments_lexer": "ipython3",
   "version": "3.9.13"
  }
 },
 "nbformat": 4,
 "nbformat_minor": 5
}
